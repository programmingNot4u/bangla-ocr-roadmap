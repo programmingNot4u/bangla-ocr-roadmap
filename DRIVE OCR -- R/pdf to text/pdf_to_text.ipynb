{
  "nbformat": 4,
  "nbformat_minor": 0,
  "metadata": {
    "colab": {
      "provenance": []
    },
    "kernelspec": {
      "name": "python3",
      "display_name": "Python 3"
    },
    "language_info": {
      "name": "python"
    }
  },
  "cells": [
    {
      "cell_type": "markdown",
      "source": [
        "# আমাদের প্রয়োজনীয় সব ডিপেন্ডেন্সি গুলা ইনস্টল করে নিচ্ছি; ইনস্টল করার পরে সেশন রিস্টার্ট করার জন্য সাজেস্ট করতে পারে, জাস্ট সিম্পলি ইগনোর।\n"
      ],
      "metadata": {
        "id": "6Bc8IYZJhYCA"
      }
    },
    {
      "cell_type": "code",
      "execution_count": null,
      "metadata": {
        "id": "S1XzP-SLatfV"
      },
      "outputs": [],
      "source": [
        "!pip install pdf2image\n",
        "!sudo apt-get install poppler-utils\n",
        "!pip install --upgrade google-api-python-client google-auth google-auth-oauthlib google-auth-httplib2\n"
      ]
    },
    {
      "cell_type": "markdown",
      "source": [
        "# আমরা আমাদের ড্রাইভারের সাথে কানেক্ট করে সার্ভিসটা ইনেবল করলাম। এজন্য একটা গুগল অথেনটিকেশন পপ-আপ আসতে পারে, প্লিজ সব গুলা পারমিশন দেন।"
      ],
      "metadata": {
        "id": "hUnZCXg6hoHZ"
      }
    },
    {
      "cell_type": "code",
      "source": [
        "from google.colab import auth\n",
        "import os\n",
        "import io\n",
        "from PIL import Image\n",
        "from pdf2image import convert_from_path\n",
        "from googleapiclient.discovery import build\n",
        "from googleapiclient.http import MediaFileUpload, MediaIoBaseDownload\n",
        "auth.authenticate_user()\n"
      ],
      "metadata": {
        "id": "_fCV5ahLa7Pp"
      },
      "execution_count": 8,
      "outputs": []
    },
    {
      "cell_type": "markdown",
      "source": [
        "# এই অংশটুকু কি ভাবে কাজ করছে তার জন্য প্লিজ \"README\" ফাইল টা read করেন প্লিজ"
      ],
      "metadata": {
        "id": "qLIbYCoZkMG6"
      }
    },
    {
      "cell_type": "code",
      "source": [
        "class DriveOCR:\n",
        "    def __init__(self):\n",
        "        self.service = build('drive', 'v3')\n",
        "\n",
        "    def process_image(self, filepath):\n",
        "        mime_type = 'application/vnd.google-apps.document'\n",
        "        file_metadata = {'name': filepath, 'mimeType': mime_type}\n",
        "        file = self.service.files().create(\n",
        "            body=file_metadata,\n",
        "            media_body=MediaFileUpload(filepath, mimetype='image/jpeg'),\n",
        "            fields='id'\n",
        "        ).execute()\n",
        "\n",
        "        file_id = file['id']\n",
        "        request = self.service.files().export_media(fileId=file_id, mimeType='text/plain')\n",
        "\n",
        "        fh = io.BytesIO()\n",
        "        downloader = MediaIoBaseDownload(fh, request)\n",
        "        done = False\n",
        "        while not done:\n",
        "            status, done = downloader.next_chunk()\n",
        "            print(f\"{filepath}: Download {int(status.progress() * 100)}%\")\n",
        "\n",
        "        self.service.files().delete(fileId=file_id).execute()\n",
        "        return fh.getvalue().decode()\n"
      ],
      "metadata": {
        "id": "K7vur-EDa-hX"
      },
      "execution_count": 9,
      "outputs": []
    },
    {
      "cell_type": "markdown",
      "source": [
        "# step-1: PDF ফাইলে আপলোড করেন এখানে"
      ],
      "metadata": {
        "id": "mO0R2-wAkZoJ"
      }
    },
    {
      "cell_type": "code",
      "source": [
        "from google.colab import files\n",
        "uploaded = files.upload()  # Upload your PDF\n",
        "pdf_filename = list(uploaded.keys())[0]\n"
      ],
      "metadata": {
        "colab": {
          "base_uri": "https://localhost:8080/",
          "height": 73
        },
        "id": "50F1aurnbD6A",
        "outputId": "39f7f2a2-a5e9-4bef-9042-d4e1a3e80c4c"
      },
      "execution_count": 4,
      "outputs": [
        {
          "output_type": "display_data",
          "data": {
            "text/plain": [
              "<IPython.core.display.HTML object>"
            ],
            "text/html": [
              "\n",
              "     <input type=\"file\" id=\"files-af0baa50-50d1-49b4-99aa-65305779ae04\" name=\"files[]\" multiple disabled\n",
              "        style=\"border:none\" />\n",
              "     <output id=\"result-af0baa50-50d1-49b4-99aa-65305779ae04\">\n",
              "      Upload widget is only available when the cell has been executed in the\n",
              "      current browser session. Please rerun this cell to enable.\n",
              "      </output>\n",
              "      <script>// Copyright 2017 Google LLC\n",
              "//\n",
              "// Licensed under the Apache License, Version 2.0 (the \"License\");\n",
              "// you may not use this file except in compliance with the License.\n",
              "// You may obtain a copy of the License at\n",
              "//\n",
              "//      http://www.apache.org/licenses/LICENSE-2.0\n",
              "//\n",
              "// Unless required by applicable law or agreed to in writing, software\n",
              "// distributed under the License is distributed on an \"AS IS\" BASIS,\n",
              "// WITHOUT WARRANTIES OR CONDITIONS OF ANY KIND, either express or implied.\n",
              "// See the License for the specific language governing permissions and\n",
              "// limitations under the License.\n",
              "\n",
              "/**\n",
              " * @fileoverview Helpers for google.colab Python module.\n",
              " */\n",
              "(function(scope) {\n",
              "function span(text, styleAttributes = {}) {\n",
              "  const element = document.createElement('span');\n",
              "  element.textContent = text;\n",
              "  for (const key of Object.keys(styleAttributes)) {\n",
              "    element.style[key] = styleAttributes[key];\n",
              "  }\n",
              "  return element;\n",
              "}\n",
              "\n",
              "// Max number of bytes which will be uploaded at a time.\n",
              "const MAX_PAYLOAD_SIZE = 100 * 1024;\n",
              "\n",
              "function _uploadFiles(inputId, outputId) {\n",
              "  const steps = uploadFilesStep(inputId, outputId);\n",
              "  const outputElement = document.getElementById(outputId);\n",
              "  // Cache steps on the outputElement to make it available for the next call\n",
              "  // to uploadFilesContinue from Python.\n",
              "  outputElement.steps = steps;\n",
              "\n",
              "  return _uploadFilesContinue(outputId);\n",
              "}\n",
              "\n",
              "// This is roughly an async generator (not supported in the browser yet),\n",
              "// where there are multiple asynchronous steps and the Python side is going\n",
              "// to poll for completion of each step.\n",
              "// This uses a Promise to block the python side on completion of each step,\n",
              "// then passes the result of the previous step as the input to the next step.\n",
              "function _uploadFilesContinue(outputId) {\n",
              "  const outputElement = document.getElementById(outputId);\n",
              "  const steps = outputElement.steps;\n",
              "\n",
              "  const next = steps.next(outputElement.lastPromiseValue);\n",
              "  return Promise.resolve(next.value.promise).then((value) => {\n",
              "    // Cache the last promise value to make it available to the next\n",
              "    // step of the generator.\n",
              "    outputElement.lastPromiseValue = value;\n",
              "    return next.value.response;\n",
              "  });\n",
              "}\n",
              "\n",
              "/**\n",
              " * Generator function which is called between each async step of the upload\n",
              " * process.\n",
              " * @param {string} inputId Element ID of the input file picker element.\n",
              " * @param {string} outputId Element ID of the output display.\n",
              " * @return {!Iterable<!Object>} Iterable of next steps.\n",
              " */\n",
              "function* uploadFilesStep(inputId, outputId) {\n",
              "  const inputElement = document.getElementById(inputId);\n",
              "  inputElement.disabled = false;\n",
              "\n",
              "  const outputElement = document.getElementById(outputId);\n",
              "  outputElement.innerHTML = '';\n",
              "\n",
              "  const pickedPromise = new Promise((resolve) => {\n",
              "    inputElement.addEventListener('change', (e) => {\n",
              "      resolve(e.target.files);\n",
              "    });\n",
              "  });\n",
              "\n",
              "  const cancel = document.createElement('button');\n",
              "  inputElement.parentElement.appendChild(cancel);\n",
              "  cancel.textContent = 'Cancel upload';\n",
              "  const cancelPromise = new Promise((resolve) => {\n",
              "    cancel.onclick = () => {\n",
              "      resolve(null);\n",
              "    };\n",
              "  });\n",
              "\n",
              "  // Wait for the user to pick the files.\n",
              "  const files = yield {\n",
              "    promise: Promise.race([pickedPromise, cancelPromise]),\n",
              "    response: {\n",
              "      action: 'starting',\n",
              "    }\n",
              "  };\n",
              "\n",
              "  cancel.remove();\n",
              "\n",
              "  // Disable the input element since further picks are not allowed.\n",
              "  inputElement.disabled = true;\n",
              "\n",
              "  if (!files) {\n",
              "    return {\n",
              "      response: {\n",
              "        action: 'complete',\n",
              "      }\n",
              "    };\n",
              "  }\n",
              "\n",
              "  for (const file of files) {\n",
              "    const li = document.createElement('li');\n",
              "    li.append(span(file.name, {fontWeight: 'bold'}));\n",
              "    li.append(span(\n",
              "        `(${file.type || 'n/a'}) - ${file.size} bytes, ` +\n",
              "        `last modified: ${\n",
              "            file.lastModifiedDate ? file.lastModifiedDate.toLocaleDateString() :\n",
              "                                    'n/a'} - `));\n",
              "    const percent = span('0% done');\n",
              "    li.appendChild(percent);\n",
              "\n",
              "    outputElement.appendChild(li);\n",
              "\n",
              "    const fileDataPromise = new Promise((resolve) => {\n",
              "      const reader = new FileReader();\n",
              "      reader.onload = (e) => {\n",
              "        resolve(e.target.result);\n",
              "      };\n",
              "      reader.readAsArrayBuffer(file);\n",
              "    });\n",
              "    // Wait for the data to be ready.\n",
              "    let fileData = yield {\n",
              "      promise: fileDataPromise,\n",
              "      response: {\n",
              "        action: 'continue',\n",
              "      }\n",
              "    };\n",
              "\n",
              "    // Use a chunked sending to avoid message size limits. See b/62115660.\n",
              "    let position = 0;\n",
              "    do {\n",
              "      const length = Math.min(fileData.byteLength - position, MAX_PAYLOAD_SIZE);\n",
              "      const chunk = new Uint8Array(fileData, position, length);\n",
              "      position += length;\n",
              "\n",
              "      const base64 = btoa(String.fromCharCode.apply(null, chunk));\n",
              "      yield {\n",
              "        response: {\n",
              "          action: 'append',\n",
              "          file: file.name,\n",
              "          data: base64,\n",
              "        },\n",
              "      };\n",
              "\n",
              "      let percentDone = fileData.byteLength === 0 ?\n",
              "          100 :\n",
              "          Math.round((position / fileData.byteLength) * 100);\n",
              "      percent.textContent = `${percentDone}% done`;\n",
              "\n",
              "    } while (position < fileData.byteLength);\n",
              "  }\n",
              "\n",
              "  // All done.\n",
              "  yield {\n",
              "    response: {\n",
              "      action: 'complete',\n",
              "    }\n",
              "  };\n",
              "}\n",
              "\n",
              "scope.google = scope.google || {};\n",
              "scope.google.colab = scope.google.colab || {};\n",
              "scope.google.colab._files = {\n",
              "  _uploadFiles,\n",
              "  _uploadFilesContinue,\n",
              "};\n",
              "})(self);\n",
              "</script> "
            ]
          },
          "metadata": {}
        },
        {
          "output_type": "stream",
          "name": "stdout",
          "text": [
            "Saving Bangla Typing with Avro Phonetic.pdf to Bangla Typing with Avro Phonetic.pdf\n"
          ]
        }
      ]
    },
    {
      "cell_type": "markdown",
      "source": [
        "# step-2 এখানে দুইটা কাজ হচ্ছে\n",
        "\n",
        "\n",
        "1.  ফাইল ক্রিয়েট হচ্ছে ইমেজ গুলা সেভ করার জন্য\n",
        "2.  pdf ফাইল এর প্রতিটি পেজ কে ইমেজ এ কনভার্ট করে ফাইলে সেভ রাখছে\n",
        "\n"
      ],
      "metadata": {
        "id": "MUzPE0nvkkX5"
      }
    },
    {
      "cell_type": "code",
      "source": [
        "# Create folder to store images\n",
        "os.makedirs(\"pdf_pages\", exist_ok=True)\n",
        "\n",
        "# Convert PDF to image list (PIL Images)\n",
        "images = convert_from_path(pdf_filename)\n",
        "\n",
        "image_paths = []\n",
        "\n",
        "for i, img in enumerate(images):\n",
        "    path = f\"pdf_pages/page_{i+1}.jpg\"\n",
        "    img.save(path, \"JPEG\")\n",
        "    image_paths.append(path)\n",
        "\n",
        "print(f\"Converted {len(image_paths)} pages to images.\")\n"
      ],
      "metadata": {
        "colab": {
          "base_uri": "https://localhost:8080/"
        },
        "id": "Ze4imqbGbfXg",
        "outputId": "fea5c86b-dd0a-4d52-b0bc-f11071402ba5"
      },
      "execution_count": 5,
      "outputs": [
        {
          "output_type": "stream",
          "name": "stdout",
          "text": [
            "Converted 17 pages to images.\n"
          ]
        }
      ]
    },
    {
      "cell_type": "markdown",
      "source": [
        "# step-3: সব গুলো ইমেজ কে এক এক করে ড্রাইভে আপলোড দিচ্ছে আর তা থেকে টেক্সট এক্সট্রাক করে \"combined_text\" variable এ সেভ রাখছে"
      ],
      "metadata": {
        "id": "65aNdytjlB9h"
      }
    },
    {
      "cell_type": "code",
      "source": [
        "ocr = DriveOCR()\n",
        "combined_text = \"\"\n",
        "\n",
        "for path in image_paths:\n",
        "    print(f\"OCR: {path}\")\n",
        "    text = ocr.process_image(path)\n",
        "    combined_text += f\"\\n--- Text from {os.path.basename(path)} ---\\n{text.strip()}\\n\"\n"
      ],
      "metadata": {
        "colab": {
          "base_uri": "https://localhost:8080/"
        },
        "id": "BwOAyz8Vbl9q",
        "outputId": "5f70aeb2-6fd0-43a5-fbed-e7ae0cbccb9f"
      },
      "execution_count": 6,
      "outputs": [
        {
          "output_type": "stream",
          "name": "stderr",
          "text": [
            "WARNING:google_auth_httplib2:httplib2 transport does not support per-request timeout. Set the timeout when constructing the httplib2.Http instance.\n",
            "WARNING:google_auth_httplib2:httplib2 transport does not support per-request timeout. Set the timeout when constructing the httplib2.Http instance.\n"
          ]
        },
        {
          "output_type": "stream",
          "name": "stdout",
          "text": [
            "OCR: pdf_pages/page_1.jpg\n",
            "pdf_pages/page_1.jpg: Download 100%\n",
            "OCR: pdf_pages/page_2.jpg\n",
            "pdf_pages/page_2.jpg: Download 100%\n",
            "OCR: pdf_pages/page_3.jpg\n",
            "pdf_pages/page_3.jpg: Download 100%\n",
            "OCR: pdf_pages/page_4.jpg\n",
            "pdf_pages/page_4.jpg: Download 100%\n",
            "OCR: pdf_pages/page_5.jpg\n",
            "pdf_pages/page_5.jpg: Download 100%\n",
            "OCR: pdf_pages/page_6.jpg\n",
            "pdf_pages/page_6.jpg: Download 100%\n",
            "OCR: pdf_pages/page_7.jpg\n",
            "pdf_pages/page_7.jpg: Download 100%\n",
            "OCR: pdf_pages/page_8.jpg\n",
            "pdf_pages/page_8.jpg: Download 100%\n",
            "OCR: pdf_pages/page_9.jpg\n",
            "pdf_pages/page_9.jpg: Download 100%\n",
            "OCR: pdf_pages/page_10.jpg\n",
            "pdf_pages/page_10.jpg: Download 100%\n",
            "OCR: pdf_pages/page_11.jpg\n",
            "pdf_pages/page_11.jpg: Download 100%\n",
            "OCR: pdf_pages/page_12.jpg\n",
            "pdf_pages/page_12.jpg: Download 100%\n",
            "OCR: pdf_pages/page_13.jpg\n",
            "pdf_pages/page_13.jpg: Download 100%\n",
            "OCR: pdf_pages/page_14.jpg\n",
            "pdf_pages/page_14.jpg: Download 100%\n",
            "OCR: pdf_pages/page_15.jpg\n",
            "pdf_pages/page_15.jpg: Download 100%\n",
            "OCR: pdf_pages/page_16.jpg\n",
            "pdf_pages/page_16.jpg: Download 100%\n",
            "OCR: pdf_pages/page_17.jpg\n",
            "pdf_pages/page_17.jpg: Download 100%\n"
          ]
        }
      ]
    },
    {
      "cell_type": "markdown",
      "source": [
        "# step-4: combined_text, variable এর সব টেক্সট এখন pdf_ocr_output.txt ফাইল এ write করা হচ্ছে"
      ],
      "metadata": {
        "id": "11fD8DiBlVMo"
      }
    },
    {
      "cell_type": "code",
      "source": [
        "output_file = \"pdf_ocr_output.txt\"\n",
        "with open(output_file, \"w\", encoding=\"utf-8\") as f:\n",
        "    f.write(combined_text)\n",
        "\n",
        "files.download(output_file)\n"
      ],
      "metadata": {
        "colab": {
          "base_uri": "https://localhost:8080/",
          "height": 17
        },
        "id": "dZT9AAL8cIJA",
        "outputId": "17619ebc-5cfc-4376-bb61-0011be98cdce"
      },
      "execution_count": 7,
      "outputs": [
        {
          "output_type": "display_data",
          "data": {
            "text/plain": [
              "<IPython.core.display.Javascript object>"
            ],
            "application/javascript": [
              "\n",
              "    async function download(id, filename, size) {\n",
              "      if (!google.colab.kernel.accessAllowed) {\n",
              "        return;\n",
              "      }\n",
              "      const div = document.createElement('div');\n",
              "      const label = document.createElement('label');\n",
              "      label.textContent = `Downloading \"${filename}\": `;\n",
              "      div.appendChild(label);\n",
              "      const progress = document.createElement('progress');\n",
              "      progress.max = size;\n",
              "      div.appendChild(progress);\n",
              "      document.body.appendChild(div);\n",
              "\n",
              "      const buffers = [];\n",
              "      let downloaded = 0;\n",
              "\n",
              "      const channel = await google.colab.kernel.comms.open(id);\n",
              "      // Send a message to notify the kernel that we're ready.\n",
              "      channel.send({})\n",
              "\n",
              "      for await (const message of channel.messages) {\n",
              "        // Send a message to notify the kernel that we're ready.\n",
              "        channel.send({})\n",
              "        if (message.buffers) {\n",
              "          for (const buffer of message.buffers) {\n",
              "            buffers.push(buffer);\n",
              "            downloaded += buffer.byteLength;\n",
              "            progress.value = downloaded;\n",
              "          }\n",
              "        }\n",
              "      }\n",
              "      const blob = new Blob(buffers, {type: 'application/binary'});\n",
              "      const a = document.createElement('a');\n",
              "      a.href = window.URL.createObjectURL(blob);\n",
              "      a.download = filename;\n",
              "      div.appendChild(a);\n",
              "      a.click();\n",
              "      div.remove();\n",
              "    }\n",
              "  "
            ]
          },
          "metadata": {}
        },
        {
          "output_type": "display_data",
          "data": {
            "text/plain": [
              "<IPython.core.display.Javascript object>"
            ],
            "application/javascript": [
              "download(\"download_7fcd07f4-b5b0-4fcc-a1f2-2d40dfe5e500\", \"pdf_ocr_output.txt\", 33288)"
            ]
          },
          "metadata": {}
        }
      ]
    },
    {
      "cell_type": "markdown",
      "source": [
        "# প্রথমবারের জন্য সবগুলো কোড ব্লক একবার রান করতে হবে। কিন্তু এরপর থেকে নতুন ইমেজের জন্য শুধু Step-1, Step-2, Step-3 and step-4 রিপিট করলেই হবে। 2nd বার থেকে কিন্তু আগের জেনেরেট করা ইমেজ ফাইল \"pdf_pages\" **DELETE** করে দিতে হবে"
      ],
      "metadata": {
        "id": "b2zJBB57lj9J"
      }
    }
  ]
}